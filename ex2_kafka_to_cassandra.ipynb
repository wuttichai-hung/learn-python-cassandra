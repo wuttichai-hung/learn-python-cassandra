{
 "cells": [
  {
   "cell_type": "code",
   "execution_count": null,
   "metadata": {},
   "outputs": [],
   "source": [
    "import pandas as pd\n",
    "from tqdm.notebook import tqdm\n",
    "from cassandra.cluster import Cluster\n",
    "\n",
    "cluster = Cluster(['localhost'], port=9042)\n",
    "session = cluster.connect()"
   ]
  },
  {
   "cell_type": "code",
   "execution_count": null,
   "metadata": {},
   "outputs": [],
   "source": [
    "# create keyspace\n",
    "session.execute(\"\"\"\n",
    "CREATE KEYSPACE IF NOT EXISTS datahungry\n",
    "  WITH REPLICATION = { \n",
    "   'class' : 'SimpleStrategy', \n",
    "   'replication_factor' : 3\n",
    "  };\n",
    "\"\"\").one()"
   ]
  },
  {
   "cell_type": "code",
   "execution_count": null,
   "metadata": {},
   "outputs": [],
   "source": [
    "# use keyspace\n",
    "session.set_keyspace('datahungry')"
   ]
  },
  {
   "cell_type": "code",
   "execution_count": null,
   "metadata": {},
   "outputs": [],
   "source": [
    "# create table\n",
    "session.execute(\"\"\"\n",
    "CREATE TABLE IF NOT EXISTS registered_profile_dev(\n",
    "    job text,\n",
    "    company text,\n",
    "    ssn text,\n",
    "    residence text,\n",
    "    current_location tuple<float, float>,\n",
    "    blood_group text,\n",
    "    website list<text>,\n",
    "    username text,\n",
    "    name text,\n",
    "    sex text,\n",
    "    address text,\n",
    "    mail text,\n",
    "    birthdate date,\n",
    "    PRIMARY KEY (ssn)\n",
    "   );\n",
    "\"\"\").one()"
   ]
  },
  {
   "cell_type": "code",
   "execution_count": null,
   "metadata": {},
   "outputs": [],
   "source": [
    "# please, run faker_to_kafka.py to produce before consuming"
   ]
  },
  {
   "cell_type": "code",
   "execution_count": null,
   "metadata": {},
   "outputs": [],
   "source": [
    "# consume from kafka to insert canssandra using json\n",
    "from kafka import KafkaConsumer\n",
    "\n",
    "cassandra_tablename = \"registered_profile\"\n",
    "kafka_topicname = \"registered_profile\"\n",
    "\n",
    "bootstrap_servers = ['localhost:9092']\n",
    "consumer = KafkaConsumer(kafka_topicname,\n",
    "                         bootstrap_servers=bootstrap_servers,\n",
    "                         auto_offset_reset='latest')\n",
    "for message in consumer:\n",
    "    data = message.value.decode('utf-8').replace(\"\\'\", \"\")\n",
    "    query = f\"INSERT INTO {cassandra_tablename} JSON '{data}';\"\n",
    "    session.execute(query)"
   ]
  },
  {
   "cell_type": "code",
   "execution_count": null,
   "metadata": {},
   "outputs": [],
   "source": [
    "# get data\n",
    "r = session.execute(\"SELECT * FROM registered_profile\")\n",
    "df = pd.DataFrame(r)\n",
    "df"
   ]
  }
 ],
 "metadata": {
  "language_info": {
   "name": "python"
  },
  "orig_nbformat": 4
 },
 "nbformat": 4,
 "nbformat_minor": 2
}
